{
  "cells": [
    {
      "cell_type": "code",
      "execution_count": null,
      "id": "893ea0d4",
      "metadata": {
        "id": "893ea0d4"
      },
      "outputs": [],
      "source": [
        "import pyodbc\n",
        "import pandas as pd"
      ]
    },
    {
      "cell_type": "code",
      "execution_count": null,
      "id": "63f03d21",
      "metadata": {
        "id": "63f03d21"
      },
      "outputs": [],
      "source": [
        "#dados_conexao_oracle = cx_Oracle.connect(user=\"NOME_BASE_DADOS\", password=\"SENHA_BASE_DADOS\", dsn=\"HOST:PORT/SERVICE_NAME\",encoding=\"UTF-8\")"
      ]
    },
    {
      "cell_type": "code",
      "execution_count": null,
      "id": "2430729e",
      "metadata": {
        "id": "2430729e",
        "outputId": "9b35938d-ebfe-4abc-c939-0b8d76d8023e"
      },
      "outputs": [
        {
          "data": {
            "text/plain": [
              "['SQL Server',\n",
              " 'Microsoft Access Driver (*.mdb, *.accdb)',\n",
              " 'Microsoft Excel Driver (*.xls, *.xlsx, *.xlsm, *.xlsb)',\n",
              " 'Microsoft Access Text Driver (*.txt, *.csv)',\n",
              " 'Amazon Redshift (x64)']"
            ]
          },
          "execution_count": 4,
          "metadata": {},
          "output_type": "execute_result"
        }
      ],
      "source": [
        "#pyodbc.drivers()"
      ]
    },
    {
      "cell_type": "code",
      "execution_count": null,
      "id": "66e192fe",
      "metadata": {
        "id": "66e192fe"
      },
      "outputs": [],
      "source": [
        "dados_conexao = (\"DRIVER={Amazon Redshift (x64)};\"\n",
        "                     \"Server=xxxxxxxxxxxxxxxxxxxxxxx;\"\n",
        "                     \"Database=xxxxxxxxxx;\"\n",
        "                     \"UID=xxxxxxxxxx;\"\n",
        "                     \"PWD=!;\"\n",
        "                     \"Port=5439\")"
      ]
    },
    {
      "cell_type": "code",
      "execution_count": null,
      "id": "16cb1d9f",
      "metadata": {
        "id": "16cb1d9f",
        "outputId": "58609a86-626a-4630-949a-fc2753f7b54e"
      },
      "outputs": [
        {
          "name": "stdout",
          "output_type": "stream",
          "text": [
            "Conexão Bem Sucedida\n"
          ]
        }
      ],
      "source": [
        "conexao = pyodbc.connect(dados_conexao)\n",
        "print('Conexão Bem Sucedida')"
      ]
    },
    {
      "cell_type": "code",
      "execution_count": null,
      "id": "f1a490c7",
      "metadata": {
        "id": "f1a490c7"
      },
      "outputs": [],
      "source": [
        "df_class_city = pd.read_sql_query('select * from datamart.xxxxx', conexao)"
      ]
    },
    {
      "cell_type": "code",
      "execution_count": null,
      "id": "ee97a0df",
      "metadata": {
        "id": "ee97a0df"
      },
      "outputs": [],
      "source": [
        "df_class_city"
      ]
    }
  ],
  "metadata": {
    "kernelspec": {
      "display_name": "Python 3 (ipykernel)",
      "language": "python",
      "name": "python3"
    },
    "language_info": {
      "codemirror_mode": {
        "name": "ipython",
        "version": 3
      },
      "file_extension": ".py",
      "mimetype": "text/x-python",
      "name": "python",
      "nbconvert_exporter": "python",
      "pygments_lexer": "ipython3",
      "version": "3.9.7"
    },
    "colab": {
      "provenance": [],
      "collapsed_sections": []
    }
  },
  "nbformat": 4,
  "nbformat_minor": 5
}