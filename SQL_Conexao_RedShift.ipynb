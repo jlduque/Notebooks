{
  "cells": [
    {
      "cell_type": "code",
      "execution_count": null,
      "id": "893ea0d4",
      "metadata": {
        "id": "893ea0d4"
      },
      "outputs": [],
      "source": [
        "import pyodbc\n",
        "import pandas as pd"
      ]
    },
    {
      "cell_type": "code",
      "execution_count": null,
      "id": "63f03d21",
      "metadata": {
        "id": "63f03d21"
      },
      "outputs": [],
      "source": [
        "#dados_conexao_oracle = cx_Oracle.connect(user=\"NOME_BASE_DADOS\", password=\"SENHA_BASE_DADOS\", dsn=\"HOST:PORT/SERVICE_NAME\",encoding=\"UTF-8\")"
      ]
    },
    {
      "cell_type": "code",
      "execution_count": null,
      "id": "2430729e",
      "metadata": {
        "id": "2430729e",
        "outputId": "9b35938d-ebfe-4abc-c939-0b8d76d8023e"
      },
      "outputs": [
        {
          "data": {
            "text/plain": [
              "['SQL Server',\n",
              " 'Microsoft Access Driver (*.mdb, *.accdb)',\n",
              " 'Microsoft Excel Driver (*.xls, *.xlsx, *.xlsm, *.xlsb)',\n",
              " 'Microsoft Access Text Driver (*.txt, *.csv)',\n",
              " 'Amazon Redshift (x64)']"
            ]
          },
          "execution_count": 4,
          "metadata": {},
          "output_type": "execute_result"
        }
      ],
      "source": [
        "#pyodbc.drivers()"
      ]
    },
    {
      "cell_type": "code",
      "execution_count": null,
      "id": "66e192fe",
      "metadata": {
        "id": "66e192fe"
      },
      "outputs": [],
      "source": [
        "dados_conexao = (\"DRIVER={Amazon Redshift (x64)};\"\n",
        "                     \"Server=xxxxxxxxxxxxxxxxxxxxxxx;\"\n",
        "                     \"Database=xxxxxxxxxx;\"\n",
        "                     \"UID=xxxxxxxxxx;\"\n",
        "                     \"PWD=!;\"\n",
        "                     \"Port=5439\")"
      ]
    },
    {
      "cell_type": "code",
      "execution_count": null,
      "id": "16cb1d9f",
      "metadata": {
        "id": "16cb1d9f",
        "outputId": "58609a86-626a-4630-949a-fc2753f7b54e"
      },
      "outputs": [
        {
          "name": "stdout",
          "output_type": "stream",
          "text": [
            "Conexão Bem Sucedida\n"
          ]
        }
      ],
      "source": [
        "conexao = pyodbc.connect(dados_conexao)\n",
        "print('Conexão Bem Sucedida')"
      ]
    },
    {
      "cell_type": "code",
      "execution_count": null,
      "id": "f1a490c7",
      "metadata": {
        "id": "f1a490c7"
      },
      "outputs": [],
      "source": [
        "df_class_city = pd.read_sql_query('select * from datamart.xxxxx', conexao)"
      ]
    },
    {
      "cell_type": "code",
      "execution_count": null,
      "id": "ee97a0df",
      "metadata": {
        "id": "ee97a0df",
        "outputId": "b953b806-fd67-4854-c273-1f4171ff862f"
      },
      "outputs": [
        {
          "data": {
            "text/html": [
              "<div>\n",
              "<style scoped>\n",
              "    .dataframe tbody tr th:only-of-type {\n",
              "        vertical-align: middle;\n",
              "    }\n",
              "\n",
              "    .dataframe tbody tr th {\n",
              "        vertical-align: top;\n",
              "    }\n",
              "\n",
              "    .dataframe thead th {\n",
              "        text-align: right;\n",
              "    }\n",
              "</style>\n",
              "<table border=\"1\" class=\"dataframe\">\n",
              "  <thead>\n",
              "    <tr style=\"text-align: right;\">\n",
              "      <th></th>\n",
              "      <th>idt_class_city</th>\n",
              "      <th>cod_zip_code_finish</th>\n",
              "      <th>cod_zip_code_start</th>\n",
              "      <th>des_class_city</th>\n",
              "      <th>dat_import_utc</th>\n",
              "    </tr>\n",
              "  </thead>\n",
              "  <tbody>\n",
              "    <tr>\n",
              "      <th>0</th>\n",
              "      <td>1</td>\n",
              "      <td>1099999</td>\n",
              "      <td>1000000</td>\n",
              "      <td>Capital</td>\n",
              "      <td>2022-03-23 11:31:18</td>\n",
              "    </tr>\n",
              "    <tr>\n",
              "      <th>1</th>\n",
              "      <td>3</td>\n",
              "      <td>1999999</td>\n",
              "      <td>1400000</td>\n",
              "      <td>Capital</td>\n",
              "      <td>2022-03-23 11:31:28</td>\n",
              "    </tr>\n",
              "    <tr>\n",
              "      <th>2</th>\n",
              "      <td>6</td>\n",
              "      <td>3399999</td>\n",
              "      <td>3000000</td>\n",
              "      <td>Capital</td>\n",
              "      <td>2022-03-23 11:31:28</td>\n",
              "    </tr>\n",
              "    <tr>\n",
              "      <th>3</th>\n",
              "      <td>8</td>\n",
              "      <td>4999999</td>\n",
              "      <td>4000000</td>\n",
              "      <td>Capital</td>\n",
              "      <td>2022-03-23 11:31:28</td>\n",
              "    </tr>\n",
              "    <tr>\n",
              "      <th>4</th>\n",
              "      <td>11</td>\n",
              "      <td>6299999</td>\n",
              "      <td>6000000</td>\n",
              "      <td>RM</td>\n",
              "      <td>2022-03-23 11:31:28</td>\n",
              "    </tr>\n",
              "    <tr>\n",
              "      <th>...</th>\n",
              "      <td>...</td>\n",
              "      <td>...</td>\n",
              "      <td>...</td>\n",
              "      <td>...</td>\n",
              "      <td>...</td>\n",
              "    </tr>\n",
              "    <tr>\n",
              "      <th>5569</th>\n",
              "      <td>5566</td>\n",
              "      <td>99939999</td>\n",
              "      <td>99930000</td>\n",
              "      <td>Interior</td>\n",
              "      <td>2022-03-23 11:35:46</td>\n",
              "    </tr>\n",
              "    <tr>\n",
              "      <th>5570</th>\n",
              "      <td>5567</td>\n",
              "      <td>99949999</td>\n",
              "      <td>99940000</td>\n",
              "      <td>Interior</td>\n",
              "      <td>2022-03-23 11:35:46</td>\n",
              "    </tr>\n",
              "    <tr>\n",
              "      <th>5571</th>\n",
              "      <td>5570</td>\n",
              "      <td>99964999</td>\n",
              "      <td>99960000</td>\n",
              "      <td>Interior</td>\n",
              "      <td>2022-03-23 11:35:46</td>\n",
              "    </tr>\n",
              "    <tr>\n",
              "      <th>5572</th>\n",
              "      <td>5572</td>\n",
              "      <td>99979999</td>\n",
              "      <td>99970000</td>\n",
              "      <td>Interior</td>\n",
              "      <td>2022-03-23 11:35:46</td>\n",
              "    </tr>\n",
              "    <tr>\n",
              "      <th>5573</th>\n",
              "      <td>5574</td>\n",
              "      <td>99999999</td>\n",
              "      <td>99990000</td>\n",
              "      <td>Interior</td>\n",
              "      <td>2022-03-23 11:35:47</td>\n",
              "    </tr>\n",
              "  </tbody>\n",
              "</table>\n",
              "<p>5574 rows × 5 columns</p>\n",
              "</div>"
            ],
            "text/plain": [
              "      idt_class_city cod_zip_code_finish cod_zip_code_start des_class_city  \\\n",
              "0                  1           1099999           1000000     Capital         \n",
              "1                  3           1999999           1400000     Capital         \n",
              "2                  6           3399999           3000000     Capital         \n",
              "3                  8           4999999           4000000     Capital         \n",
              "4                 11           6299999           6000000     RM              \n",
              "...              ...                 ...                ...            ...   \n",
              "5569            5566           99939999          99930000    Interior        \n",
              "5570            5567           99949999          99940000    Interior        \n",
              "5571            5570           99964999          99960000    Interior        \n",
              "5572            5572           99979999          99970000    Interior        \n",
              "5573            5574           99999999          99990000    Interior        \n",
              "\n",
              "          dat_import_utc  \n",
              "0    2022-03-23 11:31:18  \n",
              "1    2022-03-23 11:31:28  \n",
              "2    2022-03-23 11:31:28  \n",
              "3    2022-03-23 11:31:28  \n",
              "4    2022-03-23 11:31:28  \n",
              "...                  ...  \n",
              "5569 2022-03-23 11:35:46  \n",
              "5570 2022-03-23 11:35:46  \n",
              "5571 2022-03-23 11:35:46  \n",
              "5572 2022-03-23 11:35:46  \n",
              "5573 2022-03-23 11:35:47  \n",
              "\n",
              "[5574 rows x 5 columns]"
            ]
          },
          "execution_count": 51,
          "metadata": {},
          "output_type": "execute_result"
        }
      ],
      "source": [
        "df_class_city"
      ]
    }
  ],
  "metadata": {
    "kernelspec": {
      "display_name": "Python 3 (ipykernel)",
      "language": "python",
      "name": "python3"
    },
    "language_info": {
      "codemirror_mode": {
        "name": "ipython",
        "version": 3
      },
      "file_extension": ".py",
      "mimetype": "text/x-python",
      "name": "python",
      "nbconvert_exporter": "python",
      "pygments_lexer": "ipython3",
      "version": "3.9.7"
    },
    "colab": {
      "provenance": [],
      "collapsed_sections": []
    }
  },
  "nbformat": 4,
  "nbformat_minor": 5
}