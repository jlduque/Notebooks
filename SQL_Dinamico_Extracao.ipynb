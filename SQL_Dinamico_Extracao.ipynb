{
  "cells": [
    {
      "cell_type": "code",
      "execution_count": null,
      "id": "aa194030",
      "metadata": {
        "id": "aa194030"
      },
      "outputs": [],
      "source": [
        "import pandas as pd"
      ]
    },
    {
      "cell_type": "code",
      "execution_count": null,
      "id": "09f35ffb",
      "metadata": {
        "id": "09f35ffb"
      },
      "outputs": [],
      "source": [
        "import warnings\n",
        "warnings.filterwarnings('ignore')"
      ]
    },
    {
      "cell_type": "code",
      "execution_count": null,
      "id": "eb899452",
      "metadata": {
        "id": "eb899452"
      },
      "outputs": [],
      "source": [
        "seriais_2019_2020 = pd.read_csv('arquivo2019_2020.csv', encoding = \"ISO-8859-1\", low_memory=False, sep=';') "
      ]
    },
    {
      "cell_type": "code",
      "execution_count": null,
      "id": "7d8a04d9",
      "metadata": {
        "id": "7d8a04d9"
      },
      "outputs": [],
      "source": [
        "seriais_2021 = pd.read_csv('arquivo2021.csv', encoding = \"ISO-8859-1\", low_memory=False, sep=';', header=0, index_col=False) "
      ]
    },
    {
      "cell_type": "code",
      "execution_count": null,
      "id": "5d47b2b2",
      "metadata": {
        "id": "5d47b2b2"
      },
      "outputs": [],
      "source": [
        "seriais2_2021 = pd.read_csv('arquivo2.csv', encoding = \"ISO-8859-1\", low_memory=False, sep=';', header=0, index_col=False) "
      ]
    },
    {
      "cell_type": "code",
      "execution_count": null,
      "id": "328ccff2",
      "metadata": {
        "id": "328ccff2"
      },
      "outputs": [],
      "source": [
        "#seriais_2019_2020.head()\n",
        "#seriais_2021.head()"
      ]
    },
    {
      "cell_type": "code",
      "execution_count": null,
      "id": "73164f9e",
      "metadata": {
        "id": "73164f9e"
      },
      "outputs": [],
      "source": [
        "seriais2_2021"
      ]
    },
    {
      "cell_type": "code",
      "execution_count": null,
      "id": "09059c47",
      "metadata": {
        "id": "09059c47"
      },
      "outputs": [],
      "source": [
        "seriais_2019_2020.count()"
      ]
    },
    {
      "cell_type": "code",
      "execution_count": null,
      "id": "d2afaba8",
      "metadata": {
        "id": "d2afaba8"
      },
      "outputs": [],
      "source": [
        "seriais2_2021.count()"
      ]
    },
    {
      "cell_type": "code",
      "execution_count": null,
      "id": "128e692b",
      "metadata": {
        "id": "128e692b"
      },
      "outputs": [],
      "source": [
        "df_seriais = seriais_2019_2020.append(seriais_2021, ignore_index=True)"
      ]
    },
    {
      "cell_type": "code",
      "execution_count": null,
      "id": "62541172",
      "metadata": {
        "id": "62541172"
      },
      "outputs": [],
      "source": [
        "df_seriais = df_seriais.append(seriais2_2021, ignore_index=True)"
      ]
    },
    {
      "cell_type": "code",
      "execution_count": null,
      "id": "cb115b71",
      "metadata": {
        "id": "cb115b71"
      },
      "outputs": [],
      "source": [
        "df_seriais.head(10)"
      ]
    },
    {
      "cell_type": "code",
      "execution_count": null,
      "id": "c6a9b9bf",
      "metadata": {
        "id": "c6a9b9bf"
      },
      "outputs": [],
      "source": [
        "df_seriais.count()"
      ]
    },
    {
      "cell_type": "code",
      "execution_count": null,
      "id": "ed9c1fbf",
      "metadata": {
        "id": "ed9c1fbf"
      },
      "outputs": [],
      "source": [
        "#print(df_seriais['IDT_SERIAL_REP'].isnull().sum())"
      ]
    },
    {
      "cell_type": "code",
      "execution_count": null,
      "id": "01268cd6",
      "metadata": {
        "id": "01268cd6",
        "outputId": "aa8aef80-eac6-4fa2-d636-45fadf5d25d8"
      },
      "outputs": [
        {
          "name": "stdout",
          "output_type": "stream",
          "text": [
            "0\n"
          ]
        }
      ],
      "source": [
        "#df_seriais['IDT_SERIAL_REP'] = df_seriais.IDT_SERIAL_REP.fillna('')\n",
        "#print(df_seriais['IDT_SERIAL_REP'].isnull().sum())"
      ]
    },
    {
      "cell_type": "code",
      "execution_count": null,
      "id": "a4821a68",
      "metadata": {
        "id": "a4821a68"
      },
      "outputs": [],
      "source": [
        "#df_seriais.count()"
      ]
    },
    {
      "cell_type": "code",
      "execution_count": null,
      "id": "6039b81b",
      "metadata": {
        "id": "6039b81b"
      },
      "outputs": [],
      "source": [
        "df_seriais.columns"
      ]
    },
    {
      "cell_type": "code",
      "execution_count": null,
      "id": "1be0251f",
      "metadata": {
        "id": "1be0251f"
      },
      "outputs": [],
      "source": [
        "df_seriais.to_csv(r'completo.csv', index=None, sep = ';' , mode='a')"
      ]
    },
    {
      "cell_type": "code",
      "execution_count": null,
      "id": "6ece35c2",
      "metadata": {
        "id": "6ece35c2"
      },
      "outputs": [],
      "source": [
        "C0 = df_seriais.columns[0]\n",
        "C1 = df_seriais.columns[1]\n",
        "C2 = df_seriais.columns[2]\n",
        "C3 = df_seriais.columns[3]\n",
        "C4 = df_seriais.columns[4]\n",
        "C5 = df_seriais.columns[5]\n",
        "C6 = df_seriais.columns[6]\n",
        "C7 = df_seriais.columns[7]\n",
        "C8 = df_seriais.columns[8]\n",
        "C9 = df_seriais.columns[9]"
      ]
    },
    {
      "cell_type": "code",
      "source": [],
      "metadata": {
        "id": "prh4YUJsuBwY"
      },
      "id": "prh4YUJsuBwY",
      "execution_count": null,
      "outputs": []
    },
    {
      "cell_type": "code",
      "source": [],
      "metadata": {
        "id": "8xeBaLskuE7o"
      },
      "id": "8xeBaLskuE7o",
      "execution_count": null,
      "outputs": []
    },
    {
      "cell_type": "code",
      "execution_count": null,
      "id": "ca890e0e",
      "metadata": {
        "id": "ca890e0e"
      },
      "outputs": [],
      "source": [
        "sql1 = 'insert into schema.tabela'\n",
        "print(sql1)"
      ]
    },
    {
      "cell_type": "code",
      "execution_count": null,
      "id": "994f0aae",
      "metadata": {
        "id": "994f0aae"
      },
      "outputs": [],
      "source": [
        "#@title Default title text\n",
        "for indice, l in df_seriais.iterrows():\n",
        "    print(sql1+ ''' ('{}', '{}', '{}', '{}', '{}', '{}', '{}', '{}', '{}', '{}') VALUES ( {}, {}, {}, {}, '{}', '{}', '{}', '{}', '{}', {});'''\n",
        "          .format(C0, C1, C2, C3, C4, C5, C6, C7, C8, C9, l['col1'], l['col2'], l['col3'], l['col4'], l['col5'], l['col6'], l['col7'], l['col8'], l['col9'], l['col10']))\n",
        "    break"
      ]
    },
    {
      "cell_type": "code",
      "execution_count": null,
      "id": "56e36927",
      "metadata": {
        "id": "56e36927"
      },
      "outputs": [],
      "source": [
        "df_seriais.to_csv(r'completo.sql', header=None, index=None, sep=',', mode='a')"
      ]
    }
  ],
  "metadata": {
    "kernelspec": {
      "display_name": "Python 3 (ipykernel)",
      "language": "python",
      "name": "python3"
    },
    "language_info": {
      "codemirror_mode": {
        "name": "ipython",
        "version": 3
      },
      "file_extension": ".py",
      "mimetype": "text/x-python",
      "name": "python",
      "nbconvert_exporter": "python",
      "pygments_lexer": "ipython3",
      "version": "3.9.12"
    },
    "colab": {
      "provenance": [],
      "collapsed_sections": []
    }
  },
  "nbformat": 4,
  "nbformat_minor": 5
}