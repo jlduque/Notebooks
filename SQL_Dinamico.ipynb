{
 "cells": [
  {
   "cell_type": "code",
   "execution_count": 112,
   "id": "2f821138",
   "metadata": {},
   "outputs": [],
   "source": [
    "import pandas as pd"
   ]
  },
  {
   "cell_type": "code",
   "execution_count": 113,
   "id": "969c575b",
   "metadata": {},
   "outputs": [],
   "source": [
    "df = pd.read_csv('teste.csv', sep=',')"
   ]
  },
  {
   "cell_type": "code",
   "execution_count": 114,
   "id": "547cb02b",
   "metadata": {},
   "outputs": [
    {
     "data": {
      "text/html": [
       "<div>\n",
       "<style scoped>\n",
       "    .dataframe tbody tr th:only-of-type {\n",
       "        vertical-align: middle;\n",
       "    }\n",
       "\n",
       "    .dataframe tbody tr th {\n",
       "        vertical-align: top;\n",
       "    }\n",
       "\n",
       "    .dataframe thead th {\n",
       "        text-align: right;\n",
       "    }\n",
       "</style>\n",
       "<table border=\"1\" class=\"dataframe\">\n",
       "  <thead>\n",
       "    <tr style=\"text-align: right;\">\n",
       "      <th></th>\n",
       "      <th>idt</th>\n",
       "      <th>nome</th>\n",
       "      <th>endereço</th>\n",
       "      <th>cidade</th>\n",
       "    </tr>\n",
       "  </thead>\n",
       "  <tbody>\n",
       "    <tr>\n",
       "      <th>0</th>\n",
       "      <td>NaN</td>\n",
       "      <td>juliana</td>\n",
       "      <td>Rua 1</td>\n",
       "      <td>araraquara</td>\n",
       "    </tr>\n",
       "    <tr>\n",
       "      <th>1</th>\n",
       "      <td>NaN</td>\n",
       "      <td>everton</td>\n",
       "      <td>Rua gandur</td>\n",
       "      <td>Sao Paulo</td>\n",
       "    </tr>\n",
       "    <tr>\n",
       "      <th>2</th>\n",
       "      <td>NaN</td>\n",
       "      <td>laura</td>\n",
       "      <td>Av 7</td>\n",
       "      <td>Sao Carlos</td>\n",
       "    </tr>\n",
       "    <tr>\n",
       "      <th>3</th>\n",
       "      <td>NaN</td>\n",
       "      <td>carol</td>\n",
       "      <td>av cinco</td>\n",
       "      <td>Bahia</td>\n",
       "    </tr>\n",
       "    <tr>\n",
       "      <th>4</th>\n",
       "      <td>NaN</td>\n",
       "      <td>fatima</td>\n",
       "      <td>boa esp 10</td>\n",
       "      <td>Bauru</td>\n",
       "    </tr>\n",
       "    <tr>\n",
       "      <th>5</th>\n",
       "      <td>NaN</td>\n",
       "      <td>Marcos</td>\n",
       "      <td>22 de agosto</td>\n",
       "      <td>Guaruja</td>\n",
       "    </tr>\n",
       "  </tbody>\n",
       "</table>\n",
       "</div>"
      ],
      "text/plain": [
       "   idt     nome      endereço      cidade\n",
       "0  NaN  juliana         Rua 1  araraquara\n",
       "1  NaN  everton    Rua gandur   Sao Paulo\n",
       "2  NaN    laura          Av 7  Sao Carlos\n",
       "3  NaN    carol      av cinco       Bahia\n",
       "4  NaN   fatima    boa esp 10       Bauru\n",
       "5  NaN   Marcos  22 de agosto     Guaruja"
      ]
     },
     "execution_count": 114,
     "metadata": {},
     "output_type": "execute_result"
    }
   ],
   "source": [
    "df"
   ]
  },
  {
   "cell_type": "code",
   "execution_count": 116,
   "id": "7f8bb234",
   "metadata": {},
   "outputs": [
    {
     "name": "stdout",
     "output_type": "stream",
     "text": [
      "6\n"
     ]
    }
   ],
   "source": [
    "print(df['idt'].isnull().sum())"
   ]
  },
  {
   "cell_type": "code",
   "execution_count": 117,
   "id": "52bba312",
   "metadata": {},
   "outputs": [
    {
     "name": "stdout",
     "output_type": "stream",
     "text": [
      "0\n"
     ]
    }
   ],
   "source": [
    "df.idt = df.idt.fillna('')\n",
    "print(df['idt'].isnull().sum())"
   ]
  },
  {
   "cell_type": "code",
   "execution_count": 118,
   "id": "0b6ae5ab",
   "metadata": {},
   "outputs": [],
   "source": [
    "C0 = df.columns[0]\n",
    "C1 = df.columns[1]\n",
    "C2 = df.columns[2]\n",
    "C3 = df.columns[3]"
   ]
  },
  {
   "cell_type": "code",
   "execution_count": 119,
   "id": "0d0be384",
   "metadata": {
    "scrolled": true
   },
   "outputs": [
    {
     "name": "stdout",
     "output_type": "stream",
     "text": [
      "INSERT INTO TABELA (idt, nome, endereço, cidade) VALUES (, juliana, Rua 1, araraquara);\n",
      "INSERT INTO TABELA (idt, nome, endereço, cidade) VALUES (, everton, Rua gandur, Sao Paulo);\n",
      "INSERT INTO TABELA (idt, nome, endereço, cidade) VALUES (, laura, Av 7, Sao Carlos);\n",
      "INSERT INTO TABELA (idt, nome, endereço, cidade) VALUES (, carol, av cinco, Bahia);\n",
      "INSERT INTO TABELA (idt, nome, endereço, cidade) VALUES (, fatima, boa esp 10, Bauru);\n",
      "INSERT INTO TABELA (idt, nome, endereço, cidade) VALUES (, Marcos, 22 de agosto, Guaruja);\n"
     ]
    }
   ],
   "source": [
    "for indice, linha in df.iterrows():\n",
    "    print('''INSERT INTO TABELA ({}, {}, {}, {}) VALUES ({}, {}, {}, {});'''\n",
    "          .format(C0, C1, C2, C3, linha['idt'], linha['nome'], linha['endereço'], linha['cidade']))"
   ]
  }
 ],
 "metadata": {
  "kernelspec": {
   "display_name": "Python 3 (ipykernel)",
   "language": "python",
   "name": "python3"
  },
  "language_info": {
   "codemirror_mode": {
    "name": "ipython",
    "version": 3
   },
   "file_extension": ".py",
   "mimetype": "text/x-python",
   "name": "python",
   "nbconvert_exporter": "python",
   "pygments_lexer": "ipython3",
   "version": "3.9.7"
  }
 },
 "nbformat": 4,
 "nbformat_minor": 5
}
